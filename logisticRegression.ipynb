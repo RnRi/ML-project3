{
 "cells": [
  {
   "cell_type": "markdown",
   "metadata": {},
   "source": [
    "#Logistic Regression"
   ]
  },
  {
   "cell_type": "markdown",
   "metadata": {},
   "source": [
    "Some of the code implemented here was taken from the sklearn website. In particular, from this link :http://scikit-learn.org/stable/auto_examples/neural_networks/plot_rbm_logistic_classification.html#example-neural-networks-plot-rbm-logistic-classification-py"
   ]
  },
  {
   "cell_type": "code",
   "execution_count": 1,
   "metadata": {
    "collapsed": false
   },
   "outputs": [],
   "source": [
    "%matplotlib inline "
   ]
  },
  {
   "cell_type": "code",
   "execution_count": 2,
   "metadata": {
    "collapsed": false
   },
   "outputs": [],
   "source": [
    "\n",
    "import pandas\n"
   ]
  },
  {
   "cell_type": "code",
   "execution_count": 3,
   "metadata": {
    "collapsed": false
   },
   "outputs": [],
   "source": [
    "#Getting the data\n",
    "test = pandas.read_csv(\"test_inputs.csv\")\n",
    "x = pandas.read_csv(\"train_inputs.csv\")\n",
    "y = pandas.read_csv(\"train_outputs.csv\")\n",
    "    "
   ]
  },
  {
   "cell_type": "code",
   "execution_count": 4,
   "metadata": {
    "collapsed": true
   },
   "outputs": [],
   "source": [
    "testX = pandas.read_csv(\"test_inputs.csv\")"
   ]
  },
  {
   "cell_type": "code",
   "execution_count": 5,
   "metadata": {
    "collapsed": false
   },
   "outputs": [
    {
     "name": "stdout",
     "output_type": "stream",
     "text": [
      "Automatically created module for IPython interactive environment\n"
     ]
    }
   ],
   "source": [
    "from __future__ import print_function\n",
    "\n",
    "print(__doc__)\n",
    "\n",
    "import numpy as np\n",
    "import matplotlib.pyplot as plt\n",
    "\n",
    "from scipy.ndimage import convolve\n",
    "from sklearn import linear_model, datasets, metrics\n",
    "from sklearn.cross_validation import train_test_split\n",
    "from sklearn.neural_network import BernoulliRBM\n",
    "from sklearn.pipeline import Pipeline\n",
    "\n"
   ]
  },
  {
   "cell_type": "code",
   "execution_count": 6,
   "metadata": {
    "collapsed": false
   },
   "outputs": [],
   "source": [
    "testX = np.asarray(testX)"
   ]
  },
  {
   "cell_type": "code",
   "execution_count": 7,
   "metadata": {
    "collapsed": false
   },
   "outputs": [],
   "source": [
    "tX = testX[:,1:2304]"
   ]
  },
  {
   "cell_type": "code",
   "execution_count": 8,
   "metadata": {
    "collapsed": true
   },
   "outputs": [],
   "source": [
    "X = np.asarray(x)"
   ]
  },
  {
   "cell_type": "code",
   "execution_count": 9,
   "metadata": {
    "collapsed": false
   },
   "outputs": [],
   "source": [
    "Y = np.asarray(y)"
   ]
  },
  {
   "cell_type": "code",
   "execution_count": 10,
   "metadata": {
    "collapsed": false
   },
   "outputs": [
    {
     "data": {
      "text/plain": [
       "array([[ 0.25098041],\n",
       "       [ 0.39607844],\n",
       "       [ 0.11372549],\n",
       "       ..., \n",
       "       [ 0.18431373],\n",
       "       [ 0.11372549],\n",
       "       [ 0.30588236]])"
      ]
     },
     "execution_count": 10,
     "metadata": {},
     "output_type": "execute_result"
    }
   ],
   "source": [
    "X[:,1:2]"
   ]
  },
  {
   "cell_type": "code",
   "execution_count": 11,
   "metadata": {
    "collapsed": false
   },
   "outputs": [],
   "source": [
    "Y[:,1]\n",
    "Xd = X[:,1:2304]\n",
    "Yd = Y[:,1]"
   ]
  },
  {
   "cell_type": "code",
   "execution_count": 12,
   "metadata": {
    "collapsed": false
   },
   "outputs": [],
   "source": [
    "Xd = X[:,1:2304]\n",
    "Yd = Y[:,1]\n",
    "X_train, X_test, Y_train, Y_test = train_test_split(Xd, Yd,\n",
    "                                                    test_size=0.2,\n",
    "                                                    random_state=0)"
   ]
  },
  {
   "cell_type": "code",
   "execution_count": 13,
   "metadata": {
    "collapsed": false
   },
   "outputs": [
    {
     "data": {
      "text/plain": [
       "10000"
      ]
     },
     "execution_count": 13,
     "metadata": {},
     "output_type": "execute_result"
    }
   ],
   "source": [
    "len(X_test)"
   ]
  },
  {
   "cell_type": "code",
   "execution_count": 14,
   "metadata": {
    "collapsed": false
   },
   "outputs": [],
   "source": [
    "X_train = (X_train - np.min(X_train, 0)) / (np.max(X_train, 0) + 0.0001)  "
   ]
  },
  {
   "cell_type": "code",
   "execution_count": 15,
   "metadata": {
    "collapsed": true
   },
   "outputs": [],
   "source": [
    "X_test = (X_test - np.min(X_test, 0)) / (np.max(X_test, 0) + 0.0001)  "
   ]
  },
  {
   "cell_type": "code",
   "execution_count": 16,
   "metadata": {
    "collapsed": true
   },
   "outputs": [],
   "source": [
    "from sklearn.grid_search import GridSearchCV\n",
    "from sklearn.metrics import classification_report"
   ]
  },
  {
   "cell_type": "markdown",
   "metadata": {
    "collapsed": false
   },
   "source": [
    "##Training logistic regression."
   ]
  },
  {
   "cell_type": "code",
   "execution_count": 18,
   "metadata": {
    "collapsed": false
   },
   "outputs": [
    {
     "name": "stdout",
     "output_type": "stream",
     "text": [
      "[BernoulliRBM] Iteration 1, pseudo-likelihood = -1336.64, time = 22.63s\n",
      "[BernoulliRBM] Iteration 2, pseudo-likelihood = -1320.19, time = 25.48s\n",
      "[BernoulliRBM] Iteration 3, pseudo-likelihood = -1314.70, time = 23.81s\n",
      "[BernoulliRBM] Iteration 4, pseudo-likelihood = -1315.36, time = 23.91s\n",
      "[BernoulliRBM] Iteration 5, pseudo-likelihood = -1320.59, time = 25.59s\n",
      "[BernoulliRBM] Iteration 6, pseudo-likelihood = -1320.06, time = 27.81s\n",
      "[BernoulliRBM] Iteration 7, pseudo-likelihood = -1309.30, time = 24.48s\n",
      "[BernoulliRBM] Iteration 8, pseudo-likelihood = -1314.02, time = 23.95s\n",
      "[BernoulliRBM] Iteration 9, pseudo-likelihood = -1320.44, time = 23.29s\n",
      "[BernoulliRBM] Iteration 10, pseudo-likelihood = -1309.99, time = 23.28s\n",
      "[BernoulliRBM] Iteration 11, pseudo-likelihood = -1312.09, time = 23.29s\n",
      "[BernoulliRBM] Iteration 12, pseudo-likelihood = -1306.20, time = 23.74s\n",
      "[BernoulliRBM] Iteration 13, pseudo-likelihood = -1301.97, time = 23.81s\n",
      "[BernoulliRBM] Iteration 14, pseudo-likelihood = -1303.48, time = 24.10s\n",
      "[BernoulliRBM] Iteration 15, pseudo-likelihood = -1303.94, time = 23.56s\n",
      "[BernoulliRBM] Iteration 16, pseudo-likelihood = -1307.50, time = 23.68s\n",
      "[BernoulliRBM] Iteration 17, pseudo-likelihood = -1304.81, time = 23.56s\n",
      "[BernoulliRBM] Iteration 18, pseudo-likelihood = -1303.26, time = 23.72s\n",
      "[BernoulliRBM] Iteration 19, pseudo-likelihood = -1307.04, time = 23.62s\n",
      "[BernoulliRBM] Iteration 20, pseudo-likelihood = -1300.86, time = 23.72s\n",
      "\n",
      "Logistic regression using RBM features:\n",
      "             precision    recall  f1-score   support\n",
      "\n",
      "          0       0.55      0.58      0.56      1040\n",
      "          1       0.31      0.87      0.46      1127\n",
      "          2       0.22      0.11      0.15       931\n",
      "          3       0.34      0.25      0.29       981\n",
      "          4       0.25      0.21      0.23      1012\n",
      "          5       0.24      0.15      0.19       889\n",
      "          6       0.30      0.25      0.27       971\n",
      "          7       0.28      0.38      0.32      1017\n",
      "          8       0.30      0.12      0.17      1005\n",
      "          9       0.30      0.15      0.20      1027\n",
      "\n",
      "avg / total       0.31      0.32      0.29     10000\n",
      "\n",
      "\n",
      "Logistic regression using raw pixel features:\n",
      "             precision    recall  f1-score   support\n",
      "\n",
      "          0       0.51      0.58      0.55      1040\n",
      "          1       0.46      0.60      0.52      1127\n",
      "          2       0.23      0.21      0.22       931\n",
      "          3       0.27      0.25      0.26       981\n",
      "          4       0.27      0.25      0.26      1012\n",
      "          5       0.25      0.23      0.24       889\n",
      "          6       0.27      0.25      0.26       971\n",
      "          7       0.30      0.33      0.31      1017\n",
      "          8       0.29      0.25      0.27      1005\n",
      "          9       0.28      0.29      0.29      1027\n",
      "\n",
      "avg / total       0.32      0.33      0.32     10000\n",
      "\n",
      "\n"
     ]
    }
   ],
   "source": [
    "logistic = linear_model.LogisticRegression()\n",
    "rbm = BernoulliRBM(random_state=0, verbose=True)\n",
    "\n",
    "classifier = Pipeline(steps=[('rbm', rbm), ('logistic', logistic)])\n",
    "\n",
    "###############################################################################\n",
    "# Training\n",
    "\n",
    "# Hyper-parameters. These were set by cross-validation,\n",
    "# using a GridSearchCV. Here we are not performing cross-validation to\n",
    "# save time.\n",
    "rbm.learning_rate = 0.06\n",
    "rbm.n_iter = 20\n",
    "# More components tend to give better prediction performance, but larger\n",
    "# fitting time\n",
    "rbm.n_components = 100\n",
    "logistic.C = 5000.0\n",
    "\n",
    "# Training RBM-Logistic Pipeline\n",
    "classifier.fit(X_train, Y_train)\n",
    "\n",
    "# Training Logistic regression\n",
    "logistic_classifier = linear_model.LogisticRegression(C=1.0)\n",
    "logistic_classifier.fit(X_train, Y_train)\n",
    "\n",
    "###############################################################################\n",
    "# Evaluation\n",
    "\n",
    "print()\n",
    "print(\"Logistic regression using RBM features:\\n%s\\n\" % (\n",
    "    metrics.classification_report(\n",
    "        Y_test,\n",
    "        classifier.predict(X_test))))\n",
    "\n",
    "print(\"Logistic regression using raw pixel features:\\n%s\\n\" % (\n",
    "    metrics.classification_report(\n",
    "        Y_test,\n",
    "        logistic_classifier.predict(X_test))))\n"
   ]
  },
  {
   "cell_type": "code",
   "execution_count": 27,
   "metadata": {
    "collapsed": false
   },
   "outputs": [
    {
     "name": "stdout",
     "output_type": "stream",
     "text": [
      "[BernoulliRBM] Iteration 1, pseudo-likelihood = -1336.64, time = 23.21s\n",
      "[BernoulliRBM] Iteration 2, pseudo-likelihood = -1320.19, time = 24.82s\n",
      "[BernoulliRBM] Iteration 3, pseudo-likelihood = -1314.70, time = 23.03s\n",
      "[BernoulliRBM] Iteration 4, pseudo-likelihood = -1315.36, time = 23.51s\n",
      "[BernoulliRBM] Iteration 5, pseudo-likelihood = -1320.59, time = 22.80s\n",
      "[BernoulliRBM] Iteration 6, pseudo-likelihood = -1320.06, time = 23.09s\n",
      "[BernoulliRBM] Iteration 7, pseudo-likelihood = -1309.30, time = 23.48s\n",
      "[BernoulliRBM] Iteration 8, pseudo-likelihood = -1314.02, time = 23.33s\n",
      "[BernoulliRBM] Iteration 9, pseudo-likelihood = -1320.44, time = 23.08s\n",
      "[BernoulliRBM] Iteration 10, pseudo-likelihood = -1309.99, time = 22.85s\n",
      "[BernoulliRBM] Iteration 11, pseudo-likelihood = -1312.09, time = 22.98s\n",
      "[BernoulliRBM] Iteration 12, pseudo-likelihood = -1306.20, time = 23.89s\n",
      "[BernoulliRBM] Iteration 13, pseudo-likelihood = -1301.97, time = 22.51s\n",
      "[BernoulliRBM] Iteration 14, pseudo-likelihood = -1303.48, time = 22.53s\n",
      "[BernoulliRBM] Iteration 15, pseudo-likelihood = -1303.94, time = 22.55s\n",
      "[BernoulliRBM] Iteration 16, pseudo-likelihood = -1307.50, time = 22.54s\n",
      "[BernoulliRBM] Iteration 17, pseudo-likelihood = -1304.81, time = 22.82s\n",
      "[BernoulliRBM] Iteration 18, pseudo-likelihood = -1303.26, time = 22.83s\n",
      "[BernoulliRBM] Iteration 19, pseudo-likelihood = -1307.04, time = 22.71s\n",
      "[BernoulliRBM] Iteration 20, pseudo-likelihood = -1300.86, time = 22.99s\n",
      "\n",
      "Logistic regression using RBM features:\n",
      "             precision    recall  f1-score   support\n",
      "\n",
      "          0       0.55      0.58      0.56      1040\n",
      "          1       0.31      0.87      0.46      1127\n",
      "          2       0.22      0.11      0.15       931\n",
      "          3       0.34      0.25      0.29       981\n",
      "          4       0.25      0.21      0.23      1012\n",
      "          5       0.24      0.15      0.19       889\n",
      "          6       0.30      0.25      0.27       971\n",
      "          7       0.28      0.38      0.32      1017\n",
      "          8       0.29      0.12      0.17      1005\n",
      "          9       0.30      0.15      0.20      1027\n",
      "\n",
      "avg / total       0.31      0.32      0.29     10000\n",
      "\n",
      "\n",
      "Logistic regression using raw pixel features:\n",
      "             precision    recall  f1-score   support\n",
      "\n",
      "          0       0.51      0.58      0.54      1040\n",
      "          1       0.46      0.60      0.52      1127\n",
      "          2       0.23      0.20      0.21       931\n",
      "          3       0.27      0.25      0.26       981\n",
      "          4       0.27      0.24      0.25      1012\n",
      "          5       0.25      0.23      0.24       889\n",
      "          6       0.27      0.25      0.26       971\n",
      "          7       0.30      0.33      0.31      1017\n",
      "          8       0.29      0.25      0.27      1005\n",
      "          9       0.28      0.28      0.28      1027\n",
      "\n",
      "avg / total       0.32      0.33      0.32     10000\n",
      "\n",
      "\n"
     ]
    }
   ],
   "source": [
    "logistic = linear_model.LogisticRegression()\n",
    "rbm = BernoulliRBM(random_state=0, verbose=True)\n",
    "\n",
    "classifier = Pipeline(steps=[('rbm', rbm), ('logistic', logistic)])\n",
    "\n",
    "###############################################################################\n",
    "# Training\n",
    "\n",
    "# Hyper-parameters. These were set by cross-validation,\n",
    "# using a GridSearchCV. Here we are not performing cross-validation to\n",
    "# save time.\n",
    "rbm.learning_rate = 0.06\n",
    "rbm.n_iter = 20\n",
    "# More components tend to give better prediction performance, but larger\n",
    "# fitting time\n",
    "rbm.n_components = 100\n",
    "logistic.C = 7000.0\n",
    "\n",
    "# Training RBM-Logistic Pipeline\n",
    "classifier.fit(X_train, Y_train)\n",
    "\n",
    "# Training Logistic regression\n",
    "logistic_classifier = linear_model.LogisticRegression(C=100.0)\n",
    "logistic_classifier.fit(X_train, Y_train)\n",
    "\n",
    "###############################################################################\n",
    "# Evaluation\n",
    "\n",
    "print()\n",
    "print(\"Logistic regression using RBM features:\\n%s\\n\" % (\n",
    "    metrics.classification_report(\n",
    "        Y_test,\n",
    "        classifier.predict(X_test))))\n",
    "\n",
    "print(\"Logistic regression using raw pixel features:\\n%s\\n\" % (\n",
    "    metrics.classification_report(\n",
    "        Y_test,\n",
    "        logistic_classifier.predict(X_test))))"
   ]
  },
  {
   "cell_type": "code",
   "execution_count": null,
   "metadata": {
    "collapsed": false
   },
   "outputs": [],
   "source": [
    "import numpy as np\n",
    "import matplotlib.pyplot as plt\n",
    "\n",
    "from sklearn.linear_model import LogisticRegression\n",
    "from sklearn import datasets\n",
    "from sklearn.preprocessing import StandardScaler\n",
    "\n",
    "digits = datasets.load_digits()\n",
    "\n",
    "X, y = Xd, Yd\n",
    "X = StandardScaler().fit_transform(X)\n",
    "\n",
    "# classify small against large digits\n",
    "y = (y).astype(np.int)\n",
    "\n",
    "\n",
    "# Set regularization parameter\n",
    "for i, C in enumerate((100, 1, 0.01)):\n",
    "    # turn down tolerance for short training time\n",
    "    clf_l1_LR = LogisticRegression(C=C, penalty='l1', tol=0.01)\n",
    "    clf_l2_LR = LogisticRegression(C=C, penalty='l2', tol=0.01)\n",
    "    clf_l1_LR.fit(X, y)\n",
    "    clf_l2_LR.fit(X, y)\n",
    "\n",
    "    coef_l1_LR = clf_l1_LR.coef_.ravel()\n",
    "    coef_l2_LR = clf_l2_LR.coef_.ravel()\n",
    "\n",
    "    # coef_l1_LR contains zeros due to the\n",
    "    # L1 sparsity inducing norm\n",
    "\n",
    "    sparsity_l1_LR = np.mean(coef_l1_LR == 0) * 100\n",
    "    sparsity_l2_LR = np.mean(coef_l2_LR == 0) * 100\n",
    "\n",
    "    print(\"C=%.2f\" % C)\n",
    "    print(\"Sparsity with L1 penalty: %.2f%%\" % sparsity_l1_LR)\n",
    "    print(\"score with L1 penalty: %.4f\" % clf_l1_LR.score(X, y))\n",
    "    print(\"Sparsity with L2 penalty: %.2f%%\" % sparsity_l2_LR)\n",
    "    print(\"score with L2 penalty: %.4f\" % clf_l2_LR.score(X, y))\n",
    "\n",
    "    l1_plot = plt.subplot(3, 2, 2 * i + 1)\n",
    "    l2_plot = plt.subplot(3, 2, 2 * (i + 1))\n",
    "    if i == 0:\n",
    "        l1_plot.set_title(\"L1 penalty\")\n",
    "        l2_plot.set_title(\"L2 penalty\")\n",
    "\n",
    "    #l1_plot.imshow(np.abs(coef_l1_LR.reshape(8, 8)), interpolation='nearest',\n",
    "                   #cmap='binary', vmax=1, vmin=0)\n",
    "    #2_plot.imshow(np.abs(coef_l2_LR.reshape(8, 8)), interpolation='nearest',\n",
    "                   #cmap='binary', vmax=1, vmin=0)\n",
    "    #plt.text(-8, 3, \"C = %.2f\" % C)\n",
    "\n",
    "    l1_plot.set_xticks(())\n",
    "    l1_plot.set_yticks(())\n",
    "    l2_plot.set_xticks(())\n",
    "    l2_plot.set_yticks(())\n",
    "\n",
    "plt.show()"
   ]
  },
  {
   "cell_type": "code",
   "execution_count": 23,
   "metadata": {
    "collapsed": true
   },
   "outputs": [],
   "source": [
    "from sklearn.metrics import confusion_matrix"
   ]
  },
  {
   "cell_type": "code",
   "execution_count": 19,
   "metadata": {
    "collapsed": false
   },
   "outputs": [],
   "source": [
    "predictions = logistic_classifier.predict(X_test)"
   ]
  },
  {
   "cell_type": "code",
   "execution_count": 20,
   "metadata": {
    "collapsed": true
   },
   "outputs": [],
   "source": [
    "def plot_confusion_matrix(cm, title='Confusion matrix', cmap=plt.cm.Blues):\n",
    "    plt.imshow(cm, interpolation='nearest', cmap=cmap)\n",
    "    plt.title(title)\n",
    "    plt.colorbar()\n",
    "    labels = [0, 1, 2, 3,4,5,6,7,8,9]\n",
    "    tick_marks = np.arange(len(labels))\n",
    "    plt.xticks(tick_marks, labels, rotation=45)\n",
    "    plt.yticks(tick_marks, labels)\n",
    "    plt.tight_layout()\n",
    "    plt.ylabel('True label')\n",
    "    plt.xlabel('Predicted label')"
   ]
  },
  {
   "cell_type": "code",
   "execution_count": 21,
   "metadata": {
    "collapsed": false
   },
   "outputs": [
    {
     "name": "stdout",
     "output_type": "stream",
     "text": [
      "Confusion matrix\n",
      "[[599   8  75  60  41  37  84  61  20  55]\n",
      " [  7 671  63  71  51  53  27  35 121  28]\n",
      " [119 110 187  82  82  54  66  92  90  49]\n",
      " [ 94 108  85 246  21 139  70  23 146  49]\n",
      " [ 39  90  99  31 244  57  69 186  50 147]\n",
      " [ 68  68  48 122  61 202  68  69  81 102]\n",
      " [ 99  51  56  71  82  60 241 121  48 142]\n",
      " [ 65  52  81  21 161  46  91 334  30 136]\n",
      " [ 28 249  76 157  42  69  63  34 250  37]\n",
      " [ 63  37  50  40 132 100 110 167  36 292]]\n"
     ]
    }
   ],
   "source": [
    "cm = confusion_matrix(Y_test, predictions)\n",
    "np.set_printoptions(precision=2)\n",
    "print('Confusion matrix')\n",
    "print(cm)"
   ]
  },
  {
   "cell_type": "code",
   "execution_count": 25,
   "metadata": {
    "collapsed": false
   },
   "outputs": [
    {
     "data": {
      "image/png": "[encoded data removed]",
      "text/plain": [
       "<matplotlib.figure.Figure at 0x109cd9dd0>"
      ]
     },
     "metadata": {},
     "output_type": "display_data"
    }
   ],
   "source": [
    "plt.figure()\n",
    "plot_confusion_matrix(cm)\n",
    "plt.show()"
   ]
  },
  {
   "cell_type": "code",
   "execution_count": 26,
   "metadata": {
    "collapsed": false
   },
   "outputs": [
    {
     "data": {
      "image/png": "[encoded data removed]",
      "text/plain": [
       "<matplotlib.figure.Figure at 0x109c444d0>"
      ]
     },
     "metadata": {},
     "output_type": "display_data"
    }
   ],
   "source": [
    "plt.figure()\n",
    "plot_confusion_matrix(cm)\n",
    "plt.show()"
   ]
  },
  {
   "cell_type": "code",
   "execution_count": 19,
   "metadata": {
    "collapsed": false
   },
   "outputs": [
    {
     "name": "stdout",
     "output_type": "stream",
     "text": [
      "[BernoulliRBM] Iteration 1, pseudo-likelihood = -1336.64, time = 21.01s\n",
      "[BernoulliRBM] Iteration 2, pseudo-likelihood = -1320.19, time = 25.55s\n",
      "[BernoulliRBM] Iteration 3, pseudo-likelihood = -1314.70, time = 24.68s\n",
      "[BernoulliRBM] Iteration 4, pseudo-likelihood = -1315.36, time = 27.13s\n",
      "[BernoulliRBM] Iteration 5, pseudo-likelihood = -1320.59, time = 27.02s\n",
      "[BernoulliRBM] Iteration 6, pseudo-likelihood = -1320.06, time = 26.94s\n",
      "[BernoulliRBM] Iteration 7, pseudo-likelihood = -1309.30, time = 25.89s\n",
      "[BernoulliRBM] Iteration 8, pseudo-likelihood = -1314.02, time = 25.54s\n",
      "[BernoulliRBM] Iteration 9, pseudo-likelihood = -1320.44, time = 23.93s\n",
      "[BernoulliRBM] Iteration 10, pseudo-likelihood = -1309.99, time = 24.86s\n",
      "[BernoulliRBM] Iteration 11, pseudo-likelihood = -1312.09, time = 24.29s\n",
      "[BernoulliRBM] Iteration 12, pseudo-likelihood = -1306.20, time = 25.08s\n",
      "[BernoulliRBM] Iteration 13, pseudo-likelihood = -1301.97, time = 24.24s\n",
      "[BernoulliRBM] Iteration 14, pseudo-likelihood = -1303.48, time = 23.81s\n",
      "[BernoulliRBM] Iteration 15, pseudo-likelihood = -1303.94, time = 23.97s\n",
      "[BernoulliRBM] Iteration 16, pseudo-likelihood = -1307.50, time = 24.62s\n",
      "[BernoulliRBM] Iteration 17, pseudo-likelihood = -1304.81, time = 24.57s\n",
      "[BernoulliRBM] Iteration 18, pseudo-likelihood = -1303.26, time = 26.56s\n",
      "[BernoulliRBM] Iteration 19, pseudo-likelihood = -1307.04, time = 24.32s\n",
      "[BernoulliRBM] Iteration 20, pseudo-likelihood = -1300.86, time = 24.40s\n",
      "\n",
      "Logistic regression using RBM features:\n",
      "             precision    recall  f1-score   support\n",
      "\n",
      "          0       0.55      0.58      0.56      1040\n",
      "          1       0.31      0.87      0.46      1127\n",
      "          2       0.22      0.11      0.15       931\n",
      "          3       0.34      0.25      0.29       981\n",
      "          4       0.25      0.21      0.23      1012\n",
      "          5       0.24      0.15      0.19       889\n",
      "          6       0.30      0.25      0.27       971\n",
      "          7       0.28      0.38      0.32      1017\n",
      "          8       0.29      0.12      0.17      1005\n",
      "          9       0.30      0.15      0.20      1027\n",
      "\n",
      "avg / total       0.31      0.32      0.29     10000\n",
      "\n",
      "\n",
      "Logistic regression using raw pixel features:\n",
      "             precision    recall  f1-score   support\n",
      "\n",
      "          0       0.53      0.61      0.57      1040\n",
      "          1       0.46      0.63      0.53      1127\n",
      "          2       0.25      0.22      0.23       931\n",
      "          3       0.29      0.28      0.28       981\n",
      "          4       0.30      0.26      0.28      1012\n",
      "          5       0.27      0.24      0.25       889\n",
      "          6       0.31      0.28      0.29       971\n",
      "          7       0.31      0.34      0.33      1017\n",
      "          8       0.30      0.25      0.28      1005\n",
      "          9       0.30      0.30      0.30      1027\n",
      "\n",
      "avg / total       0.34      0.35      0.34     10000\n",
      "\n",
      "\n"
     ]
    }
   ],
   "source": [
    "logistic = linear_model.LogisticRegression()\n",
    "rbm = BernoulliRBM(random_state=0, verbose=True)\n",
    "\n",
    "classifier = Pipeline(steps=[('rbm', rbm), ('logistic', logistic)])\n",
    "\n",
    "###############################################################################\n",
    "# Training\n",
    "\n",
    "# Hyper-parameters. These were set by cross-validation,\n",
    "# using a GridSearchCV. Here we are not performing cross-validation to\n",
    "# save time.\n",
    "rbm.learning_rate = 0.06\n",
    "rbm.n_iter = 20\n",
    "# More components tend to give better prediction performance, but larger\n",
    "# fitting time\n",
    "rbm.n_components = 100\n",
    "logistic.C = 5000.0\n",
    "\n",
    "# Training RBM-Logistic Pipeline\n",
    "classifier.fit(X_train, Y_train)\n",
    "\n",
    "# Training Logistic regression\n",
    "logistic_classifier = linear_model.LogisticRegression(C=0.1)\n",
    "logistic_classifier.fit(X_train, Y_train)\n",
    "\n",
    "###############################################################################\n",
    "# Evaluation\n",
    "\n",
    "print()\n",
    "print(\"Logistic regression using RBM features:\\n%s\\n\" % (\n",
    "    metrics.classification_report(\n",
    "        Y_test,\n",
    "        classifier.predict(X_test))))\n",
    "\n",
    "print(\"Logistic regression using raw pixel features:\\n%s\\n\" % (\n",
    "    metrics.classification_report(\n",
    "        Y_test,\n",
    "        logistic_classifier.predict(X_test))))"
   ]
  },
  {
   "cell_type": "code",
   "execution_count": 20,
   "metadata": {
    "collapsed": false
   },
   "outputs": [
    {
     "name": "stdout",
     "output_type": "stream",
     "text": [
      "[BernoulliRBM] Iteration 1, pseudo-likelihood = -1336.64, time = 21.71s\n",
      "[BernoulliRBM] Iteration 2, pseudo-likelihood = -1320.19, time = 23.99s\n",
      "[BernoulliRBM] Iteration 3, pseudo-likelihood = -1314.70, time = 24.72s\n",
      "[BernoulliRBM] Iteration 4, pseudo-likelihood = -1315.36, time = 23.79s\n",
      "[BernoulliRBM] Iteration 5, pseudo-likelihood = -1320.59, time = 22.51s\n",
      "[BernoulliRBM] Iteration 6, pseudo-likelihood = -1320.06, time = 23.75s\n",
      "[BernoulliRBM] Iteration 7, pseudo-likelihood = -1309.30, time = 22.46s\n",
      "[BernoulliRBM] Iteration 8, pseudo-likelihood = -1314.02, time = 22.93s\n",
      "[BernoulliRBM] Iteration 9, pseudo-likelihood = -1320.44, time = 22.38s\n",
      "[BernoulliRBM] Iteration 10, pseudo-likelihood = -1309.99, time = 22.43s\n",
      "[BernoulliRBM] Iteration 11, pseudo-likelihood = -1312.09, time = 22.51s\n",
      "[BernoulliRBM] Iteration 12, pseudo-likelihood = -1306.20, time = 23.59s\n",
      "[BernoulliRBM] Iteration 13, pseudo-likelihood = -1301.97, time = 25.52s\n",
      "[BernoulliRBM] Iteration 14, pseudo-likelihood = -1303.48, time = 24.98s\n",
      "[BernoulliRBM] Iteration 15, pseudo-likelihood = -1303.94, time = 24.64s\n",
      "[BernoulliRBM] Iteration 16, pseudo-likelihood = -1307.50, time = 25.31s\n",
      "[BernoulliRBM] Iteration 17, pseudo-likelihood = -1304.81, time = 24.40s\n",
      "[BernoulliRBM] Iteration 18, pseudo-likelihood = -1303.26, time = 24.93s\n",
      "[BernoulliRBM] Iteration 19, pseudo-likelihood = -1307.04, time = 25.32s\n",
      "[BernoulliRBM] Iteration 20, pseudo-likelihood = -1300.86, time = 24.39s\n",
      "\n",
      "Logistic regression using RBM features:\n",
      "             precision    recall  f1-score   support\n",
      "\n",
      "          0       0.55      0.58      0.56      1040\n",
      "          1       0.31      0.87      0.46      1127\n",
      "          2       0.22      0.11      0.15       931\n",
      "          3       0.34      0.25      0.29       981\n",
      "          4       0.25      0.21      0.23      1012\n",
      "          5       0.24      0.15      0.19       889\n",
      "          6       0.30      0.25      0.27       971\n",
      "          7       0.28      0.38      0.32      1017\n",
      "          8       0.29      0.12      0.17      1005\n",
      "          9       0.30      0.15      0.20      1027\n",
      "\n",
      "avg / total       0.31      0.32      0.29     10000\n",
      "\n",
      "\n",
      "Logistic regression using raw pixel features:\n",
      "             precision    recall  f1-score   support\n",
      "\n",
      "          0       0.53      0.64      0.58      1040\n",
      "          1       0.46      0.70      0.55      1127\n",
      "          2       0.29      0.23      0.26       931\n",
      "          3       0.32      0.30      0.31       981\n",
      "          4       0.34      0.29      0.31      1012\n",
      "          5       0.28      0.24      0.26       889\n",
      "          6       0.31      0.27      0.29       971\n",
      "          7       0.31      0.36      0.34      1017\n",
      "          8       0.33      0.24      0.28      1005\n",
      "          9       0.30      0.30      0.30      1027\n",
      "\n",
      "avg / total       0.35      0.36      0.35     10000\n",
      "\n",
      "\n"
     ]
    }
   ],
   "source": [
    "logistic = linear_model.LogisticRegression()\n",
    "rbm = BernoulliRBM(random_state=0, verbose=True)\n",
    "\n",
    "classifier = Pipeline(steps=[('rbm', rbm), ('logistic', logistic)])\n",
    "\n",
    "###############################################################################\n",
    "# Training\n",
    "\n",
    "# Hyper-parameters. These were set by cross-validation,\n",
    "# using a GridSearchCV. Here we are not performing cross-validation to\n",
    "# save time.\n",
    "rbm.learning_rate = 0.06\n",
    "rbm.n_iter = 20\n",
    "# More components tend to give better prediction performance, but larger\n",
    "# fitting time\n",
    "rbm.n_components = 100\n",
    "logistic.C = 5000.0\n",
    "\n",
    "# Training RBM-Logistic Pipeline\n",
    "classifier.fit(X_train, Y_train)\n",
    "\n",
    "# Training Logistic regression\n",
    "logistic_classifier = linear_model.LogisticRegression(C=0.01)\n",
    "logistic_classifier.fit(X_train, Y_train)\n",
    "\n",
    "###############################################################################\n",
    "# Evaluation\n",
    "\n",
    "print()\n",
    "print(\"Logistic regression using RBM features:\\n%s\\n\" % (\n",
    "    metrics.classification_report(\n",
    "        Y_test,\n",
    "        classifier.predict(X_test))))\n",
    "\n",
    "print(\"Logistic regression using raw pixel features:\\n%s\\n\" % (\n",
    "    metrics.classification_report(\n",
    "        Y_test,\n",
    "        logistic_classifier.predict(X_test))))"
   ]
  },
  {
   "cell_type": "code",
   "execution_count": 17,
   "metadata": {
    "collapsed": false
   },
   "outputs": [
    {
     "name": "stdout",
     "output_type": "stream",
     "text": [
      "[BernoulliRBM] Iteration 1, pseudo-likelihood = -1336.64, time = 24.54s\n",
      "[BernoulliRBM] Iteration 2, pseudo-likelihood = -1320.19, time = 24.97s\n",
      "[BernoulliRBM] Iteration 3, pseudo-likelihood = -1314.70, time = 24.43s\n",
      "[BernoulliRBM] Iteration 4, pseudo-likelihood = -1315.36, time = 23.09s\n",
      "[BernoulliRBM] Iteration 5, pseudo-likelihood = -1320.59, time = 23.80s\n",
      "[BernoulliRBM] Iteration 6, pseudo-likelihood = -1320.06, time = 24.85s\n",
      "[BernoulliRBM] Iteration 7, pseudo-likelihood = -1309.30, time = 25.31s\n",
      "[BernoulliRBM] Iteration 8, pseudo-likelihood = -1314.02, time = 28.71s\n",
      "[BernoulliRBM] Iteration 9, pseudo-likelihood = -1320.44, time = 26.30s\n",
      "[BernoulliRBM] Iteration 10, pseudo-likelihood = -1309.99, time = 26.87s\n",
      "[BernoulliRBM] Iteration 11, pseudo-likelihood = -1312.09, time = 23.60s\n",
      "[BernoulliRBM] Iteration 12, pseudo-likelihood = -1306.20, time = 24.19s\n",
      "[BernoulliRBM] Iteration 13, pseudo-likelihood = -1301.97, time = 26.58s\n",
      "[BernoulliRBM] Iteration 14, pseudo-likelihood = -1303.48, time = 25.99s\n",
      "[BernoulliRBM] Iteration 15, pseudo-likelihood = -1303.94, time = 23.09s\n",
      "[BernoulliRBM] Iteration 16, pseudo-likelihood = -1307.50, time = 24.11s\n",
      "[BernoulliRBM] Iteration 17, pseudo-likelihood = -1304.81, time = 23.11s\n",
      "[BernoulliRBM] Iteration 18, pseudo-likelihood = -1303.26, time = 23.08s\n",
      "[BernoulliRBM] Iteration 19, pseudo-likelihood = -1307.04, time = 26.72s\n",
      "[BernoulliRBM] Iteration 20, pseudo-likelihood = -1300.86, time = 22.69s\n",
      "\n",
      "Logistic regression using RBM features:\n",
      "             precision    recall  f1-score   support\n",
      "\n",
      "          0       0.55      0.58      0.56      1040\n",
      "          1       0.31      0.87      0.46      1127\n",
      "          2       0.22      0.11      0.15       931\n",
      "          3       0.34      0.25      0.29       981\n",
      "          4       0.25      0.21      0.23      1012\n",
      "          5       0.24      0.15      0.19       889\n",
      "          6       0.30      0.25      0.27       971\n",
      "          7       0.28      0.38      0.32      1017\n",
      "          8       0.29      0.12      0.17      1005\n",
      "          9       0.30      0.15      0.20      1027\n",
      "\n",
      "avg / total       0.31      0.32      0.29     10000\n",
      "\n",
      "\n",
      "Logistic regression using raw pixel features:\n",
      "             precision    recall  f1-score   support\n",
      "\n",
      "          0       0.51      0.57      0.54      1040\n",
      "          1       0.46      0.59      0.52      1127\n",
      "          2       0.23      0.20      0.21       931\n",
      "          3       0.27      0.25      0.26       981\n",
      "          4       0.26      0.24      0.25      1012\n",
      "          5       0.25      0.23      0.24       889\n",
      "          6       0.27      0.25      0.26       971\n",
      "          7       0.30      0.33      0.31      1017\n",
      "          8       0.29      0.25      0.27      1005\n",
      "          9       0.28      0.28      0.28      1027\n",
      "\n",
      "avg / total       0.32      0.33      0.32     10000\n",
      "\n",
      "\n"
     ]
    }
   ],
   "source": [
    "logistic = linear_model.LogisticRegression()\n",
    "rbm = BernoulliRBM(random_state=0, verbose=True)\n",
    "\n",
    "classifier = Pipeline(steps=[('rbm', rbm), ('logistic', logistic)])\n",
    "\n",
    "###############################################################################\n",
    "# Training\n",
    "\n",
    "# Hyper-parameters. These were set by cross-validation,\n",
    "# using a GridSearchCV. Here we are not performing cross-validation to\n",
    "# save time.\n",
    "rbm.learning_rate = 0.06\n",
    "rbm.n_iter = 20\n",
    "# More components tend to give better prediction performance, but larger\n",
    "# fitting time\n",
    "rbm.n_components = 100\n",
    "logistic.C = 5000.0\n",
    "\n",
    "# Training RBM-Logistic Pipeline\n",
    "classifier.fit(X_train, Y_train)\n",
    "\n",
    "# Training Logistic regression\n",
    "logistic_classifier = linear_model.LogisticRegression(C=1000.0)\n",
    "logistic_classifier.fit(X_train, Y_train)\n",
    "\n",
    "###############################################################################\n",
    "# Evaluation\n",
    "\n",
    "print()\n",
    "print(\"Logistic regression using RBM features:\\n%s\\n\" % (\n",
    "    metrics.classification_report(\n",
    "        Y_test,\n",
    "        classifier.predict(X_test))))\n",
    "\n",
    "print(\"Logistic regression using raw pixel features:\\n%s\\n\" % (\n",
    "    metrics.classification_report(\n",
    "        Y_test,\n",
    "        logistic_classifier.predict(X_test))))"
   ]
  },
  {
   "cell_type": "code",
   "execution_count": 18,
   "metadata": {
    "collapsed": false
   },
   "outputs": [
    {
     "name": "stdout",
     "output_type": "stream",
     "text": [
      "[BernoulliRBM] Iteration 1, pseudo-likelihood = -1336.64, time = 24.77s\n",
      "[BernoulliRBM] Iteration 2, pseudo-likelihood = -1320.19, time = 27.64s\n",
      "[BernoulliRBM] Iteration 3, pseudo-likelihood = -1314.70, time = 23.52s\n",
      "[BernoulliRBM] Iteration 4, pseudo-likelihood = -1315.36, time = 22.96s\n",
      "[BernoulliRBM] Iteration 5, pseudo-likelihood = -1320.59, time = 23.07s\n",
      "[BernoulliRBM] Iteration 6, pseudo-likelihood = -1320.06, time = 23.27s\n",
      "[BernoulliRBM] Iteration 7, pseudo-likelihood = -1309.30, time = 22.48s\n",
      "[BernoulliRBM] Iteration 8, pseudo-likelihood = -1314.02, time = 22.56s\n",
      "[BernoulliRBM] Iteration 9, pseudo-likelihood = -1320.44, time = 22.30s\n",
      "[BernoulliRBM] Iteration 10, pseudo-likelihood = -1309.99, time = 22.15s\n",
      "[BernoulliRBM] Iteration 11, pseudo-likelihood = -1312.09, time = 22.43s\n",
      "[BernoulliRBM] Iteration 12, pseudo-likelihood = -1306.20, time = 22.43s\n",
      "[BernoulliRBM] Iteration 13, pseudo-likelihood = -1301.97, time = 22.56s\n",
      "[BernoulliRBM] Iteration 14, pseudo-likelihood = -1303.48, time = 22.17s\n",
      "[BernoulliRBM] Iteration 15, pseudo-likelihood = -1303.94, time = 22.47s\n",
      "[BernoulliRBM] Iteration 16, pseudo-likelihood = -1307.50, time = 22.48s\n",
      "[BernoulliRBM] Iteration 17, pseudo-likelihood = -1304.81, time = 22.34s\n",
      "[BernoulliRBM] Iteration 18, pseudo-likelihood = -1303.26, time = 22.48s\n",
      "[BernoulliRBM] Iteration 19, pseudo-likelihood = -1307.04, time = 22.46s\n",
      "[BernoulliRBM] Iteration 20, pseudo-likelihood = -1300.86, time = 22.41s\n",
      "\n",
      "Logistic regression using RBM features:\n",
      "             precision    recall  f1-score   support\n",
      "\n",
      "          0       0.55      0.58      0.56      1040\n",
      "          1       0.31      0.87      0.46      1127\n",
      "          2       0.21      0.11      0.15       931\n",
      "          3       0.34      0.25      0.29       981\n",
      "          4       0.25      0.21      0.23      1012\n",
      "          5       0.24      0.15      0.19       889\n",
      "          6       0.30      0.25      0.27       971\n",
      "          7       0.28      0.38      0.32      1017\n",
      "          8       0.29      0.12      0.17      1005\n",
      "          9       0.30      0.15      0.20      1027\n",
      "\n",
      "avg / total       0.31      0.32      0.29     10000\n",
      "\n",
      "\n",
      "Logistic regression using raw pixel features:\n",
      "             precision    recall  f1-score   support\n",
      "\n",
      "          0       0.51      0.58      0.54      1040\n",
      "          1       0.46      0.60      0.52      1127\n",
      "          2       0.23      0.20      0.21       931\n",
      "          3       0.27      0.25      0.26       981\n",
      "          4       0.27      0.24      0.25      1012\n",
      "          5       0.25      0.23      0.24       889\n",
      "          6       0.27      0.25      0.26       971\n",
      "          7       0.30      0.33      0.31      1017\n",
      "          8       0.29      0.25      0.27      1005\n",
      "          9       0.28      0.28      0.28      1027\n",
      "\n",
      "avg / total       0.32      0.33      0.32     10000\n",
      "\n",
      "\n"
     ]
    }
   ],
   "source": [
    "logistic = linear_model.LogisticRegression()\n",
    "rbm = BernoulliRBM(random_state=0, verbose=True)\n",
    "\n",
    "classifier = Pipeline(steps=[('rbm', rbm), ('logistic', logistic)])\n",
    "\n",
    "###############################################################################\n",
    "# Training\n",
    "\n",
    "# Hyper-parameters. These were set by cross-validation,\n",
    "# using a GridSearchCV. Here we are not performing cross-validation to\n",
    "# save time.\n",
    "rbm.learning_rate = 0.06\n",
    "rbm.n_iter = 20\n",
    "# More components tend to give better prediction performance, but larger\n",
    "# fitting time\n",
    "rbm.n_components = 100\n",
    "logistic.C = 5000.0\n",
    "\n",
    "# Training RBM-Logistic Pipeline\n",
    "classifier.fit(X_train, Y_train)\n",
    "\n",
    "# Training Logistic regression\n",
    "logistic_classifier = linear_model.LogisticRegression(C=100.0)\n",
    "logistic_classifier.fit(X_train, Y_train)\n",
    "\n",
    "###############################################################################\n",
    "# Evaluation\n",
    "\n",
    "print()\n",
    "print(\"Logistic regression using RBM features:\\n%s\\n\" % (\n",
    "    metrics.classification_report(\n",
    "        Y_test,\n",
    "        classifier.predict(X_test))))\n",
    "\n",
    "print(\"Logistic regression using raw pixel features:\\n%s\\n\" % (\n",
    "    metrics.classification_report(\n",
    "        Y_test,\n",
    "        logistic_classifier.predict(X_test))))"
   ]
  },
  {
   "cell_type": "code",
   "execution_count": 19,
   "metadata": {
    "collapsed": false
   },
   "outputs": [
    {
     "name": "stdout",
     "output_type": "stream",
     "text": [
      "[BernoulliRBM] Iteration 1, pseudo-likelihood = -1336.64, time = 26.17s\n",
      "[BernoulliRBM] Iteration 2, pseudo-likelihood = -1320.19, time = 23.85s\n",
      "[BernoulliRBM] Iteration 3, pseudo-likelihood = -1314.70, time = 25.92s\n",
      "[BernoulliRBM] Iteration 4, pseudo-likelihood = -1315.36, time = 23.27s\n",
      "[BernoulliRBM] Iteration 5, pseudo-likelihood = -1320.59, time = 23.22s\n",
      "[BernoulliRBM] Iteration 6, pseudo-likelihood = -1320.06, time = 25.64s\n",
      "[BernoulliRBM] Iteration 7, pseudo-likelihood = -1309.30, time = 28.17s\n",
      "[BernoulliRBM] Iteration 8, pseudo-likelihood = -1314.02, time = 27.56s\n",
      "[BernoulliRBM] Iteration 9, pseudo-likelihood = -1320.44, time = 25.89s\n",
      "[BernoulliRBM] Iteration 10, pseudo-likelihood = -1309.99, time = 25.56s\n",
      "[BernoulliRBM] Iteration 11, pseudo-likelihood = -1312.09, time = 25.38s\n",
      "[BernoulliRBM] Iteration 12, pseudo-likelihood = -1306.20, time = 24.30s\n",
      "[BernoulliRBM] Iteration 13, pseudo-likelihood = -1301.97, time = 26.43s\n",
      "[BernoulliRBM] Iteration 14, pseudo-likelihood = -1303.48, time = 24.71s\n",
      "[BernoulliRBM] Iteration 15, pseudo-likelihood = -1303.94, time = 24.36s\n",
      "[BernoulliRBM] Iteration 16, pseudo-likelihood = -1307.50, time = 24.77s\n",
      "[BernoulliRBM] Iteration 17, pseudo-likelihood = -1304.81, time = 25.14s\n",
      "[BernoulliRBM] Iteration 18, pseudo-likelihood = -1303.26, time = 28.47s\n",
      "[BernoulliRBM] Iteration 19, pseudo-likelihood = -1307.04, time = 25.19s\n",
      "[BernoulliRBM] Iteration 20, pseudo-likelihood = -1300.86, time = 27.57s\n",
      "\n",
      "Logistic regression using RBM features:\n",
      "             precision    recall  f1-score   support\n",
      "\n",
      "          0       0.55      0.58      0.56      1040\n",
      "          1       0.31      0.87      0.46      1127\n",
      "          2       0.22      0.11      0.15       931\n",
      "          3       0.34      0.25      0.29       981\n",
      "          4       0.25      0.21      0.23      1012\n",
      "          5       0.24      0.15      0.19       889\n",
      "          6       0.30      0.25      0.27       971\n",
      "          7       0.28      0.38      0.32      1017\n",
      "          8       0.29      0.12      0.17      1005\n",
      "          9       0.30      0.15      0.20      1027\n",
      "\n",
      "avg / total       0.31      0.32      0.29     10000\n",
      "\n",
      "\n",
      "Logistic regression using raw pixel features:\n",
      "             precision    recall  f1-score   support\n",
      "\n",
      "          0       0.51      0.58      0.55      1040\n",
      "          1       0.46      0.60      0.52      1127\n",
      "          2       0.23      0.21      0.22       931\n",
      "          3       0.27      0.25      0.26       981\n",
      "          4       0.27      0.25      0.26      1012\n",
      "          5       0.25      0.23      0.24       889\n",
      "          6       0.27      0.25      0.26       971\n",
      "          7       0.30      0.33      0.31      1017\n",
      "          8       0.29      0.25      0.27      1005\n",
      "          9       0.28      0.29      0.29      1027\n",
      "\n",
      "avg / total       0.32      0.33      0.32     10000\n",
      "\n",
      "\n"
     ]
    }
   ],
   "source": [
    "logistic = linear_model.LogisticRegression()\n",
    "rbm = BernoulliRBM(random_state=0, verbose=True)\n",
    "\n",
    "classifier = Pipeline(steps=[('rbm', rbm), ('logistic', logistic)])\n",
    "\n",
    "###############################################################################\n",
    "# Training\n",
    "\n",
    "# Hyper-parameters. These were set by cross-validation,\n",
    "# using a GridSearchCV. Here we are not performing cross-validation to\n",
    "# save time.\n",
    "rbm.learning_rate = 0.06\n",
    "rbm.n_iter = 20\n",
    "# More components tend to give better prediction performance, but larger\n",
    "# fitting time\n",
    "rbm.n_components = 100\n",
    "logistic.C = 5000.0\n",
    "\n",
    "# Training RBM-Logistic Pipeline\n",
    "classifier.fit(X_train, Y_train)\n",
    "\n",
    "# Training Logistic regression\n",
    "logistic_classifier = linear_model.LogisticRegression(C=1.0)\n",
    "logistic_classifier.fit(X_train, Y_train)\n",
    "\n",
    "###############################################################################\n",
    "# Evaluation\n",
    "\n",
    "print()\n",
    "print(\"Logistic regression using RBM features:\\n%s\\n\" % (\n",
    "    metrics.classification_report(\n",
    "        Y_test,\n",
    "        classifier.predict(X_test))))\n",
    "\n",
    "print(\"Logistic regression using raw pixel features:\\n%s\\n\" % (\n",
    "    metrics.classification_report(\n",
    "        Y_test,\n",
    "        logistic_classifier.predict(X_test))))"
   ]
  },
  {
   "cell_type": "code",
   "execution_count": 17,
   "metadata": {
    "collapsed": false
   },
   "outputs": [
    {
     "name": "stdout",
     "output_type": "stream",
     "text": [
      "[BernoulliRBM] Iteration 1, pseudo-likelihood = -1334.11, time = 23.98s\n",
      "[BernoulliRBM] Iteration 2, pseudo-likelihood = -1330.54, time = 25.96s\n",
      "[BernoulliRBM] Iteration 3, pseudo-likelihood = -1323.12, time = 26.89s\n",
      "[BernoulliRBM] Iteration 4, pseudo-likelihood = -1316.09, time = 26.77s\n",
      "[BernoulliRBM] Iteration 5, pseudo-likelihood = -1315.98, time = 27.24s\n",
      "[BernoulliRBM] Iteration 6, pseudo-likelihood = -1311.79, time = 25.06s\n",
      "[BernoulliRBM] Iteration 7, pseudo-likelihood = -1310.62, time = 27.81s\n",
      "[BernoulliRBM] Iteration 8, pseudo-likelihood = -1314.04, time = 30.77s\n",
      "[BernoulliRBM] Iteration 9, pseudo-likelihood = -1308.09, time = 38.36s\n",
      "[BernoulliRBM] Iteration 10, pseudo-likelihood = -1312.89, time = 32.69s\n",
      "[BernoulliRBM] Iteration 11, pseudo-likelihood = -1311.44, time = 31.69s\n",
      "[BernoulliRBM] Iteration 12, pseudo-likelihood = -1309.10, time = 28.96s\n",
      "[BernoulliRBM] Iteration 13, pseudo-likelihood = -1310.59, time = 26.05s\n",
      "[BernoulliRBM] Iteration 14, pseudo-likelihood = -1310.15, time = 26.27s\n",
      "[BernoulliRBM] Iteration 15, pseudo-likelihood = -1308.07, time = 27.89s\n",
      "[BernoulliRBM] Iteration 16, pseudo-likelihood = -1310.22, time = 25.98s\n",
      "[BernoulliRBM] Iteration 17, pseudo-likelihood = -1310.43, time = 29.55s\n",
      "[BernoulliRBM] Iteration 18, pseudo-likelihood = -1306.85, time = 30.83s\n",
      "[BernoulliRBM] Iteration 19, pseudo-likelihood = -1309.59, time = 26.44s\n",
      "[BernoulliRBM] Iteration 20, pseudo-likelihood = -1308.21, time = 27.88s\n",
      "\n",
      "Logistic regression using RBM features:\n",
      "             precision    recall  f1-score   support\n",
      "\n",
      "          0       0.56      0.59      0.58      1040\n",
      "          1       0.31      0.85      0.45      1127\n",
      "          2       0.26      0.14      0.18       931\n",
      "          3       0.34      0.27      0.30       981\n",
      "          4       0.22      0.23      0.23      1012\n",
      "          5       0.26      0.13      0.17       889\n",
      "          6       0.32      0.18      0.23       971\n",
      "          7       0.30      0.40      0.34      1017\n",
      "          8       0.27      0.14      0.19      1005\n",
      "          9       0.30      0.16      0.21      1027\n",
      "\n",
      "avg / total       0.32      0.32      0.29     10000\n",
      "\n",
      "\n",
      "Logistic regression using raw pixel features:\n",
      "             precision    recall  f1-score   support\n",
      "\n",
      "          0       0.53      0.64      0.58      1040\n",
      "          1       0.46      0.69      0.55      1127\n",
      "          2       0.29      0.22      0.25       931\n",
      "          3       0.32      0.30      0.31       981\n",
      "          4       0.34      0.29      0.31      1012\n",
      "          5       0.28      0.24      0.26       889\n",
      "          6       0.31      0.27      0.29       971\n",
      "          7       0.32      0.36      0.34      1017\n",
      "          8       0.33      0.24      0.28      1005\n",
      "          9       0.30      0.29      0.30      1027\n",
      "\n",
      "avg / total       0.35      0.36      0.35     10000\n",
      "\n",
      "\n"
     ]
    }
   ],
   "source": [
    "logistic = linear_model.LogisticRegression()\n",
    "rbm = BernoulliRBM(random_state=0, verbose=True)\n",
    "\n",
    "classifier = Pipeline(steps=[('rbm', rbm), ('logistic', logistic)])\n",
    "\n",
    "###############################################################################\n",
    "# Training\n",
    "\n",
    "# Hyper-parameters. These were set by cross-validation,\n",
    "# using a GridSearchCV. Here we are not performing cross-validation to\n",
    "# save time.\n",
    "rbm.learning_rate = 0.06\n",
    "rbm.n_iter = 20\n",
    "# More components tend to give better prediction performance, but larger\n",
    "# fitting time\n",
    "rbm.n_components = 100\n",
    "logistic.C = 5000.0\n",
    "\n",
    "# Training RBM-Logistic Pipeline\n",
    "classifier.fit(X_train, Y_train)\n",
    "\n",
    "# Training Logistic regression\n",
    "logistic_classifier = linear_model.LogisticRegression(C=0.01)\n",
    "logistic_classifier.fit(X_train, Y_train)\n",
    "\n",
    "###############################################################################\n",
    "# Evaluation\n",
    "\n",
    "print()\n",
    "print(\"Logistic regression using RBM features:\\n%s\\n\" % (\n",
    "    metrics.classification_report(\n",
    "        Y_test,\n",
    "        classifier.predict(X_test))))\n",
    "\n",
    "print(\"Logistic regression using raw pixel features:\\n%s\\n\" % (\n",
    "    metrics.classification_report(\n",
    "        Y_test,\n",
    "        logistic_classifier.predict(X_test))))"
   ]
  },
  {
   "cell_type": "code",
   "execution_count": 24,
   "metadata": {
    "collapsed": true
   },
   "outputs": [],
   "source": [
    "predictions = logistic_classifier.predict(X_test)"
   ]
  },
  {
   "cell_type": "code",
   "execution_count": 25,
   "metadata": {
    "collapsed": false
   },
   "outputs": [
    {
     "name": "stdout",
     "output_type": "stream",
     "text": [
      "Confusion matrix\n",
      "[[663  11  50  68  30  36  68  49  12  53]\n",
      " [  6 783  47  57  22  46  18  24  99  25]\n",
      " [137 119 209  73  73  52  55  91  72  50]\n",
      " [ 92 136  75 298  13 118  62  18 131  38]\n",
      " [ 38 107  80  21 296  52  68 203  32 115]\n",
      " [ 83  79  43 135  48 212  65  68  56 100]\n",
      " [103  64  55  54  68  58 263 126  44 136]\n",
      " [ 56  64  60  17 149  44  87 368  22 150]\n",
      " [ 15 288  70 166  55  59  44  27 246  35]\n",
      " [ 57  46  33  36 126  89 120 191  27 302]]\n"
     ]
    }
   ],
   "source": [
    "cm = confusion_matrix(Y_test, predictions)\n",
    "np.set_printoptions(precision=2)\n",
    "print('Confusion matrix')\n",
    "print(cm)"
   ]
  },
  {
   "cell_type": "code",
   "execution_count": 26,
   "metadata": {
    "collapsed": false
   },
   "outputs": [
    {
     "data": {
      "image/png": "[encoded data removed]",
      "text/plain": [
       "<matplotlib.figure.Figure at 0x10a382710>"
      ]
     },
     "metadata": {},
     "output_type": "display_data"
    }
   ],
   "source": [
    "plt.figure()\n",
    "plot_confusion_matrix(cm)\n",
    "plt.show()"
   ]
  },
  {
   "cell_type": "code",
   "execution_count": 46,
   "metadata": {
    "collapsed": false
   },
   "outputs": [],
   "source": [
    "from sklearn.metrics import roc_curve\n"
   ]
  },
  {
   "cell_type": "code",
   "execution_count": 28,
   "metadata": {
    "collapsed": false
   },
   "outputs": [],
   "source": [
    "var1 = cm[1,1]+cm[2,2]+cm[3,3]+cm[0,0]+ cm[4,4]+ cm[5,5]+ cm[6,6]+ cm[7,7]+ cm[8,8]"
   ]
  },
  {
   "cell_type": "code",
   "execution_count": 29,
   "metadata": {
    "collapsed": false
   },
   "outputs": [],
   "source": [
    "var2 = sum(cm[1,:])+sum(cm[2,:])+sum(cm[3,:])+sum(cm[0,:])+sum(cm[4,:])+sum(cm[5,:])+sum(cm[6,:])+sum(cm[7,:])+sum(cm[8,:])"
   ]
  },
  {
   "cell_type": "code",
   "execution_count": 30,
   "metadata": {
    "collapsed": false
   },
   "outputs": [
    {
     "name": "stdout",
     "output_type": "stream",
     "text": [
      "Classifier accuracy with C : 0.01  -> 0.3720049036\n"
     ]
    }
   ],
   "source": [
    "print (\"Classifier accuracy with C : 0.01  -> \" + str(var1/ float(var2)))"
   ]
  },
  {
   "cell_type": "code",
   "execution_count": 43,
   "metadata": {
    "collapsed": false
   },
   "outputs": [
    {
     "name": "stdout",
     "output_type": "stream",
     "text": [
      "[BernoulliRBM] Iteration 1, pseudo-likelihood = -1336.64, time = 23.03s\n",
      "[BernoulliRBM] Iteration 2, pseudo-likelihood = -1320.19, time = 35.06s\n",
      "[BernoulliRBM] Iteration 3, pseudo-likelihood = -1314.70, time = 33.18s\n",
      "[BernoulliRBM] Iteration 4, pseudo-likelihood = -1315.36, time = 28.44s\n",
      "[BernoulliRBM] Iteration 5, pseudo-likelihood = -1320.59, time = 34.83s\n",
      "[BernoulliRBM] Iteration 6, pseudo-likelihood = -1320.06, time = 44.27s\n",
      "[BernoulliRBM] Iteration 7, pseudo-likelihood = -1309.30, time = 34.10s\n",
      "[BernoulliRBM] Iteration 8, pseudo-likelihood = -1314.02, time = 25.52s\n",
      "[BernoulliRBM] Iteration 9, pseudo-likelihood = -1320.44, time = 26.83s\n",
      "[BernoulliRBM] Iteration 10, pseudo-likelihood = -1309.99, time = 32.77s\n",
      "[BernoulliRBM] Iteration 11, pseudo-likelihood = -1312.09, time = 30.46s\n",
      "[BernoulliRBM] Iteration 12, pseudo-likelihood = -1306.20, time = 33.36s\n",
      "[BernoulliRBM] Iteration 13, pseudo-likelihood = -1301.97, time = 35.05s\n",
      "[BernoulliRBM] Iteration 14, pseudo-likelihood = -1303.48, time = 29.83s\n",
      "[BernoulliRBM] Iteration 15, pseudo-likelihood = -1303.94, time = 29.84s\n",
      "[BernoulliRBM] Iteration 16, pseudo-likelihood = -1307.50, time = 29.57s\n",
      "[BernoulliRBM] Iteration 17, pseudo-likelihood = -1304.81, time = 30.47s\n",
      "[BernoulliRBM] Iteration 18, pseudo-likelihood = -1303.26, time = 31.29s\n",
      "[BernoulliRBM] Iteration 19, pseudo-likelihood = -1307.04, time = 31.14s\n",
      "[BernoulliRBM] Iteration 20, pseudo-likelihood = -1300.86, time = 31.00s\n",
      "\n",
      "Logistic regression using RBM features:\n",
      "             precision    recall  f1-score   support\n",
      "\n",
      "          0       0.55      0.58      0.56      1040\n",
      "          1       0.31      0.87      0.46      1127\n",
      "          2       0.22      0.11      0.15       931\n",
      "          3       0.34      0.25      0.29       981\n",
      "          4       0.25      0.21      0.23      1012\n",
      "          5       0.24      0.15      0.19       889\n",
      "          6       0.30      0.25      0.27       971\n",
      "          7       0.28      0.38      0.32      1017\n",
      "          8       0.29      0.12      0.17      1005\n",
      "          9       0.30      0.15      0.20      1027\n",
      "\n",
      "avg / total       0.31      0.32      0.29     10000\n",
      "\n",
      "\n",
      "Logistic regression using raw pixel features:\n",
      "             precision    recall  f1-score   support\n",
      "\n",
      "          0       0.50      0.64      0.56      1040\n",
      "          1       0.40      0.77      0.53      1127\n",
      "          2       0.30      0.19      0.23       931\n",
      "          3       0.31      0.31      0.31       981\n",
      "          4       0.32      0.28      0.30      1012\n",
      "          5       0.28      0.16      0.20       889\n",
      "          6       0.31      0.27      0.29       971\n",
      "          7       0.30      0.40      0.34      1017\n",
      "          8       0.32      0.17      0.22      1005\n",
      "          9       0.29      0.25      0.27      1027\n",
      "\n",
      "avg / total       0.34      0.35      0.33     10000\n",
      "\n",
      "\n"
     ]
    }
   ],
   "source": [
    "logistic = linear_model.LogisticRegression()\n",
    "rbm = BernoulliRBM(random_state=0, verbose=True)\n",
    "\n",
    "classifier = Pipeline(steps=[('rbm', rbm), ('logistic', logistic)])\n",
    "\n",
    "###############################################################################\n",
    "# Training\n",
    "\n",
    "# Hyper-parameters. These were set by cross-validation,\n",
    "# using a GridSearchCV. Here we are not performing cross-validation to\n",
    "# save time.\n",
    "rbm.learning_rate = 0.06\n",
    "rbm.n_iter = 20\n",
    "# More components tend to give better prediction performance, but larger\n",
    "# fitting time\n",
    "rbm.n_components = 100\n",
    "logistic.C = 5000.0\n",
    "\n",
    "# Training RBM-Logistic Pipeline\n",
    "classifier.fit(X_train, Y_train)\n",
    "\n",
    "# Training Logistic regression\n",
    "logistic_classifier = linear_model.LogisticRegression(C=0.001)\n",
    "logistic_classifier.fit(X_train, Y_train)\n",
    "\n",
    "###############################################################################\n",
    "# Evaluation\n",
    "\n",
    "print()\n",
    "print(\"Logistic regression using RBM features:\\n%s\\n\" % (\n",
    "    metrics.classification_report(\n",
    "        Y_test,\n",
    "        classifier.predict(X_test))))\n",
    "\n",
    "print(\"Logistic regression using raw pixel features:\\n%s\\n\" % (\n",
    "    metrics.classification_report(\n",
    "        Y_test,\n",
    "        logistic_classifier.predict(X_test))))"
   ]
  },
  {
   "cell_type": "code",
   "execution_count": null,
   "metadata": {
    "collapsed": true
   },
   "outputs": [],
   "source": []
  }
 ],
 "metadata": {
  "kernelspec": {
   "display_name": "Python 2",
   "language": "python",
   "name": "python2"
  },
  "language_info": {
   "codemirror_mode": {
    "name": "ipython",
    "version": 2
   },
   "file_extension": ".py",
   "mimetype": "text/x-python",
   "name": "python",
   "nbconvert_exporter": "python",
   "pygments_lexer": "ipython2",
   "version": "2.7.10"
  }
 },
 "nbformat": 4,
 "nbformat_minor": 0
}
